{
 "cells": [
  {
   "cell_type": "code",
   "execution_count": 1,
   "id": "99616d0f-695f-4fc2-a1bc-9d16eb377a16",
   "metadata": {
    "tags": []
   },
   "outputs": [
    {
     "name": "stdout",
     "output_type": "stream",
     "text": [
      "hello\n"
     ]
    }
   ],
   "source": [
    "#C 누르면 copy cell\n",
    "#x누르면 cut cell\n",
    "#v 누르면 paste the cell after the active cell\n",
    "#d 누르면 delete the cell\n",
    "print(\"hello\")"
   ]
  },
  {
   "cell_type": "code",
   "execution_count": 2,
   "id": "15e0abe8-17e3-42f8-aa10-2d9263b57993",
   "metadata": {
    "tags": []
   },
   "outputs": [
    {
     "name": "stdout",
     "output_type": "stream",
     "text": [
      "Hufs\n"
     ]
    }
   ],
   "source": [
    "#shift+enter (칸 중간에 추가했을때 run하면 결과값만 뜸) \n",
    "print(\"Hufs\")"
   ]
  },
  {
   "cell_type": "code",
   "execution_count": 3,
   "id": "00f587e8-b52e-45f1-9e3b-a4eeb361d03f",
   "metadata": {},
   "outputs": [
    {
     "name": "stdout",
     "output_type": "stream",
     "text": [
      "Hufs\n"
     ]
    }
   ],
   "source": [
    "#alt+enter (칸 중간에 추가했을때 run하면 결과값 뜨고 밑에 새줄이 생김)\n",
    "print(\"Hufs\")"
   ]
  },
  {
   "cell_type": "code",
   "execution_count": null,
   "id": "fd08f2e0-6c09-447c-b7ed-56c4faf0b2e5",
   "metadata": {},
   "outputs": [],
   "source": []
  },
  {
   "cell_type": "code",
   "execution_count": 4,
   "id": "7ba476fc-d449-4a81-b026-0f4f97e67d0b",
   "metadata": {
    "tags": []
   },
   "outputs": [
    {
     "name": "stdout",
     "output_type": "stream",
     "text": [
      "Hufs\n"
     ]
    }
   ],
   "source": [
    "print(\"Hufs\")"
   ]
  },
  {
   "cell_type": "code",
   "execution_count": 5,
   "id": "26b12e8e-7f11-4a52-ac01-4b74d4927469",
   "metadata": {
    "tags": []
   },
   "outputs": [],
   "source": [
    "temperature=9.8\n",
    "#floating number\n",
    "#자바에서는 float temperature=9.8;"
   ]
  },
  {
   "cell_type": "code",
   "execution_count": 7,
   "id": "22ce4a64-0103-4a2e-94de-e0c1d325fcd3",
   "metadata": {},
   "outputs": [
    {
     "name": "stdout",
     "output_type": "stream",
     "text": [
      "9.8\n"
     ]
    }
   ],
   "source": [
    "print(temperature)"
   ]
  },
  {
   "cell_type": "code",
   "execution_count": 8,
   "id": "112401f9-0978-45cb-83d4-5a9a494b3f4b",
   "metadata": {},
   "outputs": [],
   "source": [
    "temperature=11\n",
    "#값 갱신"
   ]
  },
  {
   "cell_type": "code",
   "execution_count": 9,
   "id": "cbf0a757-a640-4e57-b691-16802b8c33d1",
   "metadata": {},
   "outputs": [
    {
     "name": "stdout",
     "output_type": "stream",
     "text": [
      "11\n"
     ]
    }
   ],
   "source": [
    "print(temperature)\n",
    "#파이썬은 값 갱신하면 자동으로 데이터 타입이 바뀜 float>int\n",
    "#그래서 정수로 출력함"
   ]
  },
  {
   "cell_type": "code",
   "execution_count": 10,
   "id": "676b2506-5623-457a-b0c0-ce30b050d8a3",
   "metadata": {},
   "outputs": [],
   "source": [
    "temperature=11.0"
   ]
  },
  {
   "cell_type": "code",
   "execution_count": 11,
   "id": "1d913773-de68-4545-bec5-2f6c8aec51d4",
   "metadata": {},
   "outputs": [
    {
     "name": "stdout",
     "output_type": "stream",
     "text": [
      "11.0\n"
     ]
    }
   ],
   "source": [
    "print(temperature)"
   ]
  },
  {
   "cell_type": "code",
   "execution_count": 7,
   "id": "73dbac58-9e0f-441b-aa45-51b5ca7185fc",
   "metadata": {},
   "outputs": [
    {
     "ename": "NameError",
     "evalue": "name 'Widget' is not defined",
     "output_type": "error",
     "traceback": [
      "\u001b[1;31m---------------------------------------------------------------------------\u001b[0m",
      "\u001b[1;31mNameError\u001b[0m                                 Traceback (most recent call last)",
      "\u001b[1;32m~\\AppData\\Local\\Temp/ipykernel_9716/930587465.py\u001b[0m in \u001b[0;36m<module>\u001b[1;34m\u001b[0m\n\u001b[1;32m----> 1\u001b[1;33m \u001b[0mw\u001b[0m\u001b[1;33m=\u001b[0m\u001b[0mWidget\u001b[0m\u001b[1;33m(\u001b[0m\u001b[1;33m)\u001b[0m\u001b[1;33m\u001b[0m\u001b[1;33m\u001b[0m\u001b[0m\n\u001b[0m",
      "\u001b[1;31mNameError\u001b[0m: name 'Widget' is not defined"
     ]
    }
   ],
   "source": [
    "w=Widget()\n"
   ]
  },
  {
   "cell_type": "code",
   "execution_count": 1,
   "id": "c5abdfcd-b4cd-44d2-a586-fa36e4060f39",
   "metadata": {},
   "outputs": [],
   "source": [
    "b=bool()\n",
    "#기본값은 False 임"
   ]
  },
  {
   "cell_type": "code",
   "execution_count": 2,
   "id": "8ee5209f-c014-403f-8e8d-001516a5c9b1",
   "metadata": {},
   "outputs": [
    {
     "data": {
      "text/plain": [
       "False"
      ]
     },
     "execution_count": 2,
     "metadata": {},
     "output_type": "execute_result"
    }
   ],
   "source": [
    "b"
   ]
  },
  {
   "cell_type": "code",
   "execution_count": 3,
   "id": "be091154-2600-432e-9153-f255f972ce88",
   "metadata": {},
   "outputs": [
    {
     "name": "stdout",
     "output_type": "stream",
     "text": [
      "True\n"
     ]
    }
   ],
   "source": [
    "a=2<3\n",
    "print(a)"
   ]
  },
  {
   "cell_type": "code",
   "execution_count": 4,
   "id": "4b119676-809d-4cf6-a437-a501244ca66e",
   "metadata": {},
   "outputs": [],
   "source": [
    "b=bool(a)"
   ]
  },
  {
   "cell_type": "code",
   "execution_count": 5,
   "id": "71717119-be1d-445c-b951-e9794ad1429d",
   "metadata": {},
   "outputs": [
    {
     "data": {
      "text/plain": [
       "True"
      ]
     },
     "execution_count": 5,
     "metadata": {},
     "output_type": "execute_result"
    }
   ],
   "source": [
    "b"
   ]
  },
  {
   "cell_type": "code",
   "execution_count": 8,
   "id": "63ae49a8-c965-48ac-963e-8bf80ac974b1",
   "metadata": {},
   "outputs": [
    {
     "data": {
      "text/plain": [
       "3"
      ]
     },
     "execution_count": 8,
     "metadata": {},
     "output_type": "execute_result"
    }
   ],
   "source": [
    "int(3.14)"
   ]
  },
  {
   "cell_type": "code",
   "execution_count": 9,
   "id": "66b426bf-ac47-42c8-a41c-c09ee69ce89a",
   "metadata": {},
   "outputs": [
    {
     "data": {
      "text/plain": [
       "3"
      ]
     },
     "execution_count": 9,
     "metadata": {},
     "output_type": "execute_result"
    }
   ],
   "source": [
    "int(3.99)\n",
    "#int는 반올림이 아니라 정수 부분만 가져오는거 즉 뒤부분 버림"
   ]
  },
  {
   "cell_type": "code",
   "execution_count": 10,
   "id": "5e2ee463-9eff-42dd-84a8-ca955784da2c",
   "metadata": {},
   "outputs": [
    {
     "data": {
      "text/plain": [
       "-3"
      ]
     },
     "execution_count": 10,
     "metadata": {},
     "output_type": "execute_result"
    }
   ],
   "source": [
    "int(-3.99)\n",
    "#정수인 -3만 가져옴"
   ]
  },
  {
   "cell_type": "code",
   "execution_count": 11,
   "id": "0f31b5b8-baba-4b01-a76e-6797bcca4f1b",
   "metadata": {},
   "outputs": [
    {
     "data": {
      "text/plain": [
       "256"
      ]
     },
     "execution_count": 11,
     "metadata": {},
     "output_type": "execute_result"
    }
   ],
   "source": [
    "int(\"256\")\n",
    "#문자 넣어도 자동으로 int 로 type 변환함"
   ]
  },
  {
   "cell_type": "code",
   "execution_count": 13,
   "id": "5705da4d-355e-46d7-ad2c-7f0fee490b15",
   "metadata": {},
   "outputs": [
    {
     "data": {
      "text/plain": [
       "150000000000.0"
      ]
     },
     "execution_count": 13,
     "metadata": {},
     "output_type": "execute_result"
    }
   ],
   "source": [
    "1.5e11\n",
    "#이건 1.5*10^11이다"
   ]
  },
  {
   "cell_type": "code",
   "execution_count": 14,
   "id": "cb3ab4d6-219e-436d-90c2-e73a22999e69",
   "metadata": {},
   "outputs": [
    {
     "data": {
      "text/plain": [
       "2.0"
      ]
     },
     "execution_count": 14,
     "metadata": {},
     "output_type": "execute_result"
    }
   ],
   "source": [
    "float(2)\n",
    "#자동으로 float 값으로 type 변환"
   ]
  },
  {
   "cell_type": "code",
   "execution_count": 15,
   "id": "39df3d46-1b63-4297-8473-2d5d2ffa817f",
   "metadata": {},
   "outputs": [
    {
     "data": {
      "text/plain": [
       "2.2"
      ]
     },
     "execution_count": 15,
     "metadata": {},
     "output_type": "execute_result"
    }
   ],
   "source": [
    "float(\"2.2\")"
   ]
  },
  {
   "cell_type": "code",
   "execution_count": 17,
   "id": "d5b0f216-0d81-4bad-8f79-c55432df29d0",
   "metadata": {},
   "outputs": [
    {
     "data": {
      "text/plain": [
       "6.723478923489032e+20"
      ]
     },
     "execution_count": 17,
     "metadata": {},
     "output_type": "execute_result"
    }
   ],
   "source": [
    "float(672347892348903240234)\n",
    "#소수로 나타낼수없는 너무 큰 정수값 넣으면 e이용해서 소수점 나옴,e는 10의 몇제곱수"
   ]
  },
  {
   "cell_type": "code",
   "execution_count": 18,
   "id": "39720720-5442-43da-8cf1-73ead528c001",
   "metadata": {},
   "outputs": [
    {
     "data": {
      "text/plain": [
       "[]"
      ]
     },
     "execution_count": 18,
     "metadata": {},
     "output_type": "execute_result"
    }
   ],
   "source": [
    "#리스트\n",
    "[]\n",
    "#디폴트값은 빈 리스트"
   ]
  },
  {
   "cell_type": "code",
   "execution_count": 27,
   "id": "f6b6fead-5b49-462c-baf2-c0a204bed23e",
   "metadata": {},
   "outputs": [
    {
     "data": {
      "text/plain": [
       "'red'"
      ]
     },
     "execution_count": 27,
     "metadata": {},
     "output_type": "execute_result"
    }
   ],
   "source": [
    "data=[\"red\",\"blue\",\"yellow\"]\n",
    "data[0]\n",
    "#0부터 시작임, 첫번째자리는 list[0]\n",
    "#list 길이가 3 이기 때문에 list[3]은 error"
   ]
  },
  {
   "cell_type": "code",
   "execution_count": 2,
   "id": "5286c8eb-f345-4cc9-a6e2-b0286ebda186",
   "metadata": {},
   "outputs": [],
   "source": [
    "a = list()\n",
    "#빈리스트도 지정해둘수있음"
   ]
  },
  {
   "cell_type": "code",
   "execution_count": 3,
   "id": "79cd2424-c5ad-43ad-83f9-ef659f1d665b",
   "metadata": {},
   "outputs": [
    {
     "data": {
      "text/plain": [
       "[]"
      ]
     },
     "execution_count": 3,
     "metadata": {},
     "output_type": "execute_result"
    }
   ],
   "source": [
    "a"
   ]
  },
  {
   "cell_type": "code",
   "execution_count": 1,
   "id": "4951bc21-ec67-4a9f-8cdc-bf60076026f0",
   "metadata": {},
   "outputs": [],
   "source": [
    "a=list([\"red\",\"blue\",\"yellow\"])"
   ]
  },
  {
   "cell_type": "code",
   "execution_count": 2,
   "id": "dee5264c-c431-42d1-927f-e5ec8ea5aa5f",
   "metadata": {},
   "outputs": [
    {
     "data": {
      "text/plain": [
       "['red', 'blue', 'yellow']"
      ]
     },
     "execution_count": 2,
     "metadata": {},
     "output_type": "execute_result"
    }
   ],
   "source": [
    "a"
   ]
  },
  {
   "cell_type": "code",
   "execution_count": 4,
   "id": "3b0aecea-b722-4c3e-9763-dd83c9b8c5bf",
   "metadata": {},
   "outputs": [
    {
     "data": {
      "text/plain": [
       "['H', 'U', 'F', 'S']"
      ]
     },
     "execution_count": 4,
     "metadata": {},
     "output_type": "execute_result"
    }
   ],
   "source": [
    "list('HUFS')\n",
    "#따로따로 분리"
   ]
  },
  {
   "cell_type": "code",
   "execution_count": 5,
   "id": "f4b2fcc6-6be9-418e-8bb1-0af5a0260bd7",
   "metadata": {},
   "outputs": [],
   "source": [
    "a=list('HUFS')\n"
   ]
  },
  {
   "cell_type": "code",
   "execution_count": 6,
   "id": "193f6db7-b2eb-445f-b59d-ca870008bd2b",
   "metadata": {},
   "outputs": [
    {
     "data": {
      "text/plain": [
       "'F'"
      ]
     },
     "execution_count": 6,
     "metadata": {},
     "output_type": "execute_result"
    }
   ],
   "source": [
    "a[2]"
   ]
  },
  {
   "cell_type": "code",
   "execution_count": 7,
   "id": "5449c016-29b5-4386-8a75-bc32acc83690",
   "metadata": {},
   "outputs": [
    {
     "data": {
      "text/plain": [
       "()"
      ]
     },
     "execution_count": 7,
     "metadata": {},
     "output_type": "execute_result"
    }
   ],
   "source": [
    "#tuple\n",
    "()\n",
    "#빈tuple"
   ]
  },
  {
   "cell_type": "code",
   "execution_count": 8,
   "id": "4f0acdd2-5be2-48af-bbca-58bcacfedda5",
   "metadata": {},
   "outputs": [
    {
     "data": {
      "text/plain": [
       "17"
      ]
     },
     "execution_count": 8,
     "metadata": {},
     "output_type": "execute_result"
    }
   ],
   "source": [
    "(17)\n",
    "#이거는 tuple로 정의 안됨"
   ]
  },
  {
   "cell_type": "code",
   "execution_count": 9,
   "id": "ae55cc4c-231f-4219-833d-d88cfa755ea9",
   "metadata": {},
   "outputs": [
    {
     "data": {
      "text/plain": [
       "(17,)"
      ]
     },
     "execution_count": 9,
     "metadata": {},
     "output_type": "execute_result"
    }
   ],
   "source": [
    "(17,)\n",
    "#뒤에 , 찍어야 tuple 정의 됨 \n",
    "#이건 one-element tuple 형태"
   ]
  },
  {
   "cell_type": "code",
   "execution_count": 10,
   "id": "5d4f620a-2bc0-45da-a264-3453accba251",
   "metadata": {},
   "outputs": [],
   "source": [
    "a=[\"red\",\"blue\",\"yellow\"] #list\n",
    "b=(\"red\",\"blue\",\"yellow\") #tuple\n",
    "#tuple은 안의 값을 바꿀수 없음\n",
    "#b[0]=\"blue\" 이렇게 갱신 하려 하면 error 뜸"
   ]
  },
  {
   "cell_type": "code",
   "execution_count": 13,
   "id": "d9b9a848-a031-4a05-b558-9de19af93141",
   "metadata": {},
   "outputs": [
    {
     "data": {
      "text/plain": [
       "'red'"
      ]
     },
     "execution_count": 13,
     "metadata": {},
     "output_type": "execute_result"
    }
   ],
   "source": [
    "a[0]"
   ]
  },
  {
   "cell_type": "code",
   "execution_count": 14,
   "id": "12804b0d-d1bd-4890-b0df-82716bd4580a",
   "metadata": {},
   "outputs": [
    {
     "data": {
      "text/plain": [
       "'red'"
      ]
     },
     "execution_count": 14,
     "metadata": {},
     "output_type": "execute_result"
    }
   ],
   "source": [
    "b[0]"
   ]
  },
  {
   "cell_type": "code",
   "execution_count": 17,
   "id": "8f7e4f40-5b92-4123-829a-784a43d9cf69",
   "metadata": {},
   "outputs": [
    {
     "name": "stdout",
     "output_type": "stream",
     "text": [
      "Welcome to data structure class\n",
      "This is the basic python lecture\n",
      "Hope you do well in this class\n"
     ]
    }
   ],
   "source": [
    "print(\"\"\"Welcome to data structure class\n",
    "This is the basic python lecture\n",
    "Hope you do well in this class\"\"\")\n",
    "#줄이 세개면 \"도 3개 찍어줘야함,아니면 error뜸"
   ]
  },
  {
   "cell_type": "code",
   "execution_count": 18,
   "id": "fa3a62a6-8fe0-4d9a-bcd7-0f4f183d7dd5",
   "metadata": {},
   "outputs": [
    {
     "data": {
      "text/plain": [
       "{'blue', 'green', 'red'}"
      ]
     },
     "execution_count": 18,
     "metadata": {},
     "output_type": "execute_result"
    }
   ],
   "source": [
    "#set\n",
    "{\"red\",\"blue\",\"green\"}\n",
    "# 내가 입력한 순서 따르지 않음, 파이썬 메모리 안에 순서를 따름 no order"
   ]
  },
  {
   "cell_type": "code",
   "execution_count": 23,
   "id": "627a89f2-8982-4187-9a17-e3cea3a7fe73",
   "metadata": {},
   "outputs": [],
   "source": [
    "c={\"red\",\"blue\",\"green\"}"
   ]
  },
  {
   "cell_type": "code",
   "execution_count": 24,
   "id": "2c72d37a-e2b6-48da-a512-92574a49a96c",
   "metadata": {},
   "outputs": [
    {
     "ename": "TypeError",
     "evalue": "'set' object is not subscriptable",
     "output_type": "error",
     "traceback": [
      "\u001b[1;31m---------------------------------------------------------------------------\u001b[0m",
      "\u001b[1;31mTypeError\u001b[0m                                 Traceback (most recent call last)",
      "\u001b[1;32m~\\AppData\\Local\\Temp/ipykernel_3148/4192214634.py\u001b[0m in \u001b[0;36m<module>\u001b[1;34m\u001b[0m\n\u001b[1;32m----> 1\u001b[1;33m \u001b[0mc\u001b[0m\u001b[1;33m[\u001b[0m\u001b[1;36m0\u001b[0m\u001b[1;33m]\u001b[0m\u001b[1;33m\u001b[0m\u001b[1;33m\u001b[0m\u001b[0m\n\u001b[0m",
      "\u001b[1;31mTypeError\u001b[0m: 'set' object is not subscriptable"
     ]
    }
   ],
   "source": [
    "c[0]\n",
    "#no order, set은 순서를 알수 없기 때문에 error 뜸"
   ]
  },
  {
   "cell_type": "code",
   "execution_count": 25,
   "id": "b5cb2033-fc05-4071-888c-a20061321d08",
   "metadata": {},
   "outputs": [],
   "source": [
    "a=[\"a\",\"a\",\"b\",\"b\",\"c\"] #list\n",
    "b={\"a\",\"a\",\"b\",\"b\",\"c\"} #set"
   ]
  },
  {
   "cell_type": "code",
   "execution_count": 26,
   "id": "a93272e2-f5e1-4be3-b685-6e8015f4467a",
   "metadata": {},
   "outputs": [
    {
     "data": {
      "text/plain": [
       "['a', 'a', 'b', 'b', 'c']"
      ]
     },
     "execution_count": 26,
     "metadata": {},
     "output_type": "execute_result"
    }
   ],
   "source": [
    "a"
   ]
  },
  {
   "cell_type": "code",
   "execution_count": 27,
   "id": "ebfe10b7-5e4a-41ee-a290-6c80f42fcbd3",
   "metadata": {},
   "outputs": [
    {
     "data": {
      "text/plain": [
       "{'a', 'b', 'c'}"
      ]
     },
     "execution_count": 27,
     "metadata": {},
     "output_type": "execute_result"
    }
   ],
   "source": [
    "b\n",
    "#set 은 중복 요소 한번만 출력 no duplicate"
   ]
  },
  {
   "cell_type": "code",
   "execution_count": 1,
   "id": "ecdea758-6bd1-4165-a99e-f0ac1f727ef7",
   "metadata": {},
   "outputs": [],
   "source": [
    "#dict\n",
    "dict1={\"ga\":\"Irish\",\"de\":\"German\"}"
   ]
  },
  {
   "cell_type": "code",
   "execution_count": 2,
   "id": "336212cb-1725-466f-a674-0ac081dbe1c1",
   "metadata": {},
   "outputs": [
    {
     "data": {
      "text/plain": [
       "{'ga': 'Irish', 'de': 'German'}"
      ]
     },
     "execution_count": 2,
     "metadata": {},
     "output_type": "execute_result"
    }
   ],
   "source": [
    "dict1"
   ]
  },
  {
   "cell_type": "code",
   "execution_count": 3,
   "id": "19c9f87a-32c5-434a-b1d9-4f0daa0108a3",
   "metadata": {},
   "outputs": [
    {
     "data": {
      "text/plain": [
       "'Irish'"
      ]
     },
     "execution_count": 3,
     "metadata": {},
     "output_type": "execute_result"
    }
   ],
   "source": [
    "dict1['ga']\n",
    "#dict1[0]은 error  남,dict[key]형태로 써야함"
   ]
  },
  {
   "cell_type": "code",
   "execution_count": 4,
   "id": "6aa0c05f-e261-4b55-874e-02ba2c0c3eca",
   "metadata": {},
   "outputs": [],
   "source": [
    "pairs=[('ga','Irish'),('de','German')]\n",
    "#list로 dict 출력하기"
   ]
  },
  {
   "cell_type": "code",
   "execution_count": 5,
   "id": "0bbea3de-8733-47fe-8cb2-2ce69e8d6c6a",
   "metadata": {},
   "outputs": [
    {
     "data": {
      "text/plain": [
       "{'ga': 'Irish', 'de': 'German'}"
      ]
     },
     "execution_count": 5,
     "metadata": {},
     "output_type": "execute_result"
    }
   ],
   "source": [
    "dict(pairs)\n",
    "#dict(list)"
   ]
  },
  {
   "cell_type": "code",
   "execution_count": 6,
   "id": "21cacc42-2462-494f-a9c7-97d4972bff22",
   "metadata": {},
   "outputs": [
    {
     "data": {
      "text/plain": [
       "16"
      ]
     },
     "execution_count": 6,
     "metadata": {},
     "output_type": "execute_result"
    }
   ],
   "source": [
    "#operators\n",
    "6+10"
   ]
  },
  {
   "cell_type": "code",
   "execution_count": 7,
   "id": "9ac7533d-b0f6-4fbc-8dc8-13824c923521",
   "metadata": {},
   "outputs": [
    {
     "data": {
      "text/plain": [
       "'HUfsYongin'"
      ]
     },
     "execution_count": 7,
     "metadata": {},
     "output_type": "execute_result"
    }
   ],
   "source": [
    "\"HUfs\"+\"Yongin\"\n",
    "#string 더하기는 붙여서 출력"
   ]
  },
  {
   "cell_type": "code",
   "execution_count": 8,
   "id": "08bdfb10-d0a3-44e6-9f97-248b5d341ada",
   "metadata": {},
   "outputs": [
    {
     "data": {
      "text/plain": [
       "5.0"
      ]
     },
     "execution_count": 8,
     "metadata": {},
     "output_type": "execute_result"
    }
   ],
   "source": [
    "10/2\n",
    "#float (그냥 나누기)"
   ]
  },
  {
   "cell_type": "code",
   "execution_count": 9,
   "id": "89a8f034-3f96-47c7-8beb-dfada37836ed",
   "metadata": {},
   "outputs": [
    {
     "data": {
      "text/plain": [
       "5"
      ]
     },
     "execution_count": 9,
     "metadata": {},
     "output_type": "execute_result"
    }
   ],
   "source": [
    "10//2\n",
    "#integer (몫)"
   ]
  },
  {
   "cell_type": "code",
   "execution_count": 10,
   "id": "cf355543-0892-4d4a-8e0b-97cb65465306",
   "metadata": {},
   "outputs": [
    {
     "data": {
      "text/plain": [
       "1"
      ]
     },
     "execution_count": 10,
     "metadata": {},
     "output_type": "execute_result"
    }
   ],
   "source": [
    "10%3\n",
    "#remaing(나머지)"
   ]
  },
  {
   "cell_type": "code",
   "execution_count": 14,
   "id": "c96a7d72-67f8-4b74-badb-6e930e7bcdf5",
   "metadata": {},
   "outputs": [
    {
     "data": {
      "text/plain": [
       "False"
      ]
     },
     "execution_count": 14,
     "metadata": {},
     "output_type": "execute_result"
    }
   ],
   "source": [
    "#logical operators\n",
    "(3>5) and(2,3)\n",
    "#and 둘다 true면 true, 둘다 false 면 false"
   ]
  },
  {
   "cell_type": "code",
   "execution_count": 12,
   "id": "8378abde-cf74-4949-aaf2-54e720366986",
   "metadata": {},
   "outputs": [
    {
     "data": {
      "text/plain": [
       "(2, 3)"
      ]
     },
     "execution_count": 12,
     "metadata": {},
     "output_type": "execute_result"
    }
   ],
   "source": [
    "(3>5) or(2,3)\n",
    "#or 둘다 false여야 false,나머지는 true"
   ]
  },
  {
   "cell_type": "code",
   "execution_count": 13,
   "id": "1299c0c3-a5a5-44bf-841d-ab7ee1ab02de",
   "metadata": {},
   "outputs": [
    {
     "data": {
      "text/plain": [
       "True"
      ]
     },
     "execution_count": 13,
     "metadata": {},
     "output_type": "execute_result"
    }
   ],
   "source": [
    "not (3>5)"
   ]
  },
  {
   "cell_type": "code",
   "execution_count": 15,
   "id": "5dac6fd4-48d9-4c63-9f74-9fca5644f7c0",
   "metadata": {},
   "outputs": [
    {
     "data": {
      "text/plain": [
       "True"
      ]
     },
     "execution_count": 15,
     "metadata": {},
     "output_type": "execute_result"
    }
   ],
   "source": [
    "#equality operators\n",
    "5==5"
   ]
  },
  {
   "cell_type": "code",
   "execution_count": 16,
   "id": "08564b07-e6e3-4dda-b6c0-3bff27fdafbb",
   "metadata": {},
   "outputs": [
    {
     "data": {
      "text/plain": [
       "False"
      ]
     },
     "execution_count": 16,
     "metadata": {},
     "output_type": "execute_result"
    }
   ],
   "source": [
    "5!=5"
   ]
  },
  {
   "cell_type": "code",
   "execution_count": 17,
   "id": "66f2a31e-339c-4968-a074-f4d39468b476",
   "metadata": {},
   "outputs": [],
   "source": [
    "a=[5,6,7,]\n"
   ]
  },
  {
   "cell_type": "code",
   "execution_count": 18,
   "id": "b4459955-a48b-4082-9ead-dc685797ef41",
   "metadata": {},
   "outputs": [],
   "source": [
    "b=(3,4,5)"
   ]
  },
  {
   "cell_type": "code",
   "execution_count": 19,
   "id": "aa6e3b7a-166a-4035-951c-79f23917a943",
   "metadata": {},
   "outputs": [
    {
     "data": {
      "text/plain": [
       "False"
      ]
     },
     "execution_count": 19,
     "metadata": {},
     "output_type": "execute_result"
    }
   ],
   "source": [
    "a==b"
   ]
  },
  {
   "cell_type": "code",
   "execution_count": 20,
   "id": "538347d3-0b4a-4393-8aa7-faa937a315b8",
   "metadata": {},
   "outputs": [],
   "source": [
    "c=(5,6,7)"
   ]
  },
  {
   "cell_type": "code",
   "execution_count": 21,
   "id": "66fe3658-a936-4f09-bf16-731c65c8a5a4",
   "metadata": {},
   "outputs": [
    {
     "data": {
      "text/plain": [
       "False"
      ]
     },
     "execution_count": 21,
     "metadata": {},
     "output_type": "execute_result"
    }
   ],
   "source": [
    "a==c"
   ]
  },
  {
   "cell_type": "code",
   "execution_count": 22,
   "id": "76a6dd4a-b897-4aff-9751-eced0bc8320b",
   "metadata": {},
   "outputs": [
    {
     "data": {
      "text/plain": [
       "[5, 6, 7]"
      ]
     },
     "execution_count": 22,
     "metadata": {},
     "output_type": "execute_result"
    }
   ],
   "source": [
    "a\n",
    "#list"
   ]
  },
  {
   "cell_type": "code",
   "execution_count": 23,
   "id": "4ae470e8-ba3b-4b38-8a65-a4dd7b248156",
   "metadata": {},
   "outputs": [
    {
     "data": {
      "text/plain": [
       "(5, 6, 7)"
      ]
     },
     "execution_count": 23,
     "metadata": {},
     "output_type": "execute_result"
    }
   ],
   "source": [
    "c\n",
    "#tuple"
   ]
  },
  {
   "cell_type": "code",
   "execution_count": 24,
   "id": "f3cf832f-62d9-4f68-8eb7-83de692793a6",
   "metadata": {},
   "outputs": [
    {
     "data": {
      "text/plain": [
       "True"
      ]
     },
     "execution_count": 24,
     "metadata": {},
     "output_type": "execute_result"
    }
   ],
   "source": [
    "a is not c"
   ]
  },
  {
   "cell_type": "code",
   "execution_count": 25,
   "id": "3481f490-dc4c-4434-9c51-a680ff2ad6e1",
   "metadata": {},
   "outputs": [
    {
     "data": {
      "text/plain": [
       "True"
      ]
     },
     "execution_count": 25,
     "metadata": {},
     "output_type": "execute_result"
    }
   ],
   "source": [
    "#comparison operators\n",
    "3<5"
   ]
  },
  {
   "cell_type": "code",
   "execution_count": 27,
   "id": "11b659ed-31bf-4059-999e-c8c59507fa8e",
   "metadata": {},
   "outputs": [
    {
     "data": {
      "text/plain": [
       "True"
      ]
     },
     "execution_count": 27,
     "metadata": {},
     "output_type": "execute_result"
    }
   ],
   "source": [
    "\"hello\">\"Hello\"\n",
    "#Ascii 코드에서 소문자 h가 더 큰 숫자여서 "
   ]
  },
  {
   "cell_type": "code",
   "execution_count": 28,
   "id": "d0bc0462-2bf1-4304-aaf1-c5dfafab9600",
   "metadata": {},
   "outputs": [
    {
     "data": {
      "text/plain": [
       "8"
      ]
     },
     "execution_count": 28,
     "metadata": {},
     "output_type": "execute_result"
    }
   ],
   "source": [
    "#Arithmetic operators\n",
    "3+5\n",
    "#int+int->int float+float->float "
   ]
  },
  {
   "cell_type": "code",
   "execution_count": 29,
   "id": "995b4b2d-c6b1-44ad-89e9-d387986ae3b8",
   "metadata": {},
   "outputs": [
    {
     "data": {
      "text/plain": [
       "6.5"
      ]
     },
     "execution_count": 29,
     "metadata": {},
     "output_type": "execute_result"
    }
   ],
   "source": [
    "3+3.5\n",
    "int+float->float"
   ]
  },
  {
   "cell_type": "code",
   "execution_count": 1,
   "id": "525638a3-3b81-4927-af86-bd7813bd6c9e",
   "metadata": {},
   "outputs": [],
   "source": [
    "#Bitwise operators\n",
    "a=60 #0011 1100\n",
    "b=13 #000 1101\n",
    "#이진수 (컴퓨터 언어)\n",
    "c=0"
   ]
  },
  {
   "cell_type": "code",
   "execution_count": 2,
   "id": "2651049a-59a7-465c-857c-72aee98e7d4f",
   "metadata": {},
   "outputs": [],
   "source": [
    "c=a&b\n",
    "# &는 bitwise operators (and를 뜻함)"
   ]
  },
  {
   "cell_type": "code",
   "execution_count": 3,
   "id": "28810346-b8c5-4c14-956c-444df9e15fc8",
   "metadata": {},
   "outputs": [
    {
     "name": "stdout",
     "output_type": "stream",
     "text": [
      "12\n"
     ]
    }
   ],
   "source": [
    "print(c)"
   ]
  },
  {
   "cell_type": "code",
   "execution_count": 4,
   "id": "946de79f-b5b1-44d7-bfcc-2970a19f3356",
   "metadata": {},
   "outputs": [
    {
     "data": {
      "text/plain": [
       "2"
      ]
     },
     "execution_count": 4,
     "metadata": {},
     "output_type": "execute_result"
    }
   ],
   "source": [
    "#Sequence operators\n",
    "list2=[2,4,5,7,9,11] \n",
    "list2[0]   #0부터 시작임"
   ]
  },
  {
   "cell_type": "code",
   "execution_count": 6,
   "id": "cb89f883-9300-4dd0-9241-ef59cfdae891",
   "metadata": {},
   "outputs": [
    {
     "data": {
      "text/plain": [
       "[2, 4, 5, 7]"
      ]
     },
     "execution_count": 6,
     "metadata": {},
     "output_type": "execute_result"
    }
   ],
   "source": [
    "list2[0:4]\n"
   ]
  },
  {
   "cell_type": "code",
   "execution_count": 7,
   "id": "d666182a-40dd-4aee-b157-f0ea40ba0f46",
   "metadata": {},
   "outputs": [
    {
     "data": {
      "text/plain": [
       "[2, 5, 9]"
      ]
     },
     "execution_count": 7,
     "metadata": {},
     "output_type": "execute_result"
    }
   ],
   "source": [
    "list2[0:5:2]  #0부터 5까지 2칸씩 뛰어서 list2[0],list[2],list2[4]"
   ]
  },
  {
   "cell_type": "code",
   "execution_count": 8,
   "id": "86b7ccec-def1-4029-9c38-f5ddfe3a1e7b",
   "metadata": {},
   "outputs": [],
   "source": [
    "list3=[1,2,3,4]\n",
    "list4=[1,4,5]"
   ]
  },
  {
   "cell_type": "code",
   "execution_count": 9,
   "id": "af81305e-5b41-495e-87d0-9f69f95260f6",
   "metadata": {},
   "outputs": [
    {
     "data": {
      "text/plain": [
       "[1, 2, 3, 4, 1, 4, 5]"
      ]
     },
     "execution_count": 9,
     "metadata": {},
     "output_type": "execute_result"
    }
   ],
   "source": [
    "list3+list4\n",
    "#뒤에 붙히기"
   ]
  },
  {
   "cell_type": "code",
   "execution_count": 10,
   "id": "ce64f844-2cb6-4b27-bb9f-264109165d37",
   "metadata": {},
   "outputs": [
    {
     "data": {
      "text/plain": [
       "[1, 2, 3, 4, 1, 2, 3, 4, 1, 2, 3, 4]"
      ]
     },
     "execution_count": 10,
     "metadata": {},
     "output_type": "execute_result"
    }
   ],
   "source": [
    "3*list3\n",
    "#3번 반복함"
   ]
  },
  {
   "cell_type": "code",
   "execution_count": 11,
   "id": "2ee903bd-062e-4b70-bef3-d0e8c10a9980",
   "metadata": {},
   "outputs": [
    {
     "data": {
      "text/plain": [
       "True"
      ]
     },
     "execution_count": 11,
     "metadata": {},
     "output_type": "execute_result"
    }
   ],
   "source": [
    "2 in list3\n",
    "#list 3에 2가 있니?"
   ]
  },
  {
   "cell_type": "code",
   "execution_count": 13,
   "id": "9b386cc3-21c1-4e10-b1e2-12c0eb97c881",
   "metadata": {},
   "outputs": [
    {
     "data": {
      "text/plain": [
       "False"
      ]
     },
     "execution_count": 13,
     "metadata": {},
     "output_type": "execute_result"
    }
   ],
   "source": [
    "2 not in list3\n",
    "#list3안에 2가 없니"
   ]
  },
  {
   "cell_type": "code",
   "execution_count": 15,
   "id": "92466e3c-a81f-4e98-a251-17dfa5ef080a",
   "metadata": {},
   "outputs": [
    {
     "data": {
      "text/plain": [
       "True"
      ]
     },
     "execution_count": 15,
     "metadata": {},
     "output_type": "execute_result"
    }
   ],
   "source": [
    "[5,6,9]<[5,7]\n",
    "#앞에서 부터 5<5 false , 6<7 true 하나라도 true이면 true"
   ]
  },
  {
   "cell_type": "code",
   "execution_count": 16,
   "id": "4b96d2b4-c0d4-4293-a40a-707deb4a8334",
   "metadata": {},
   "outputs": [
    {
     "data": {
      "text/plain": [
       "True"
      ]
     },
     "execution_count": 16,
     "metadata": {},
     "output_type": "execute_result"
    }
   ],
   "source": [
    "[5,6,9]==[5,6,9]\n"
   ]
  },
  {
   "cell_type": "code",
   "execution_count": 17,
   "id": "69c87d82-bd38-459e-b9bb-3874acb28260",
   "metadata": {},
   "outputs": [
    {
     "data": {
      "text/plain": [
       "False"
      ]
     },
     "execution_count": 17,
     "metadata": {},
     "output_type": "execute_result"
    }
   ],
   "source": [
    "[6,5,4]<[3,4,2]\n",
    "#true 인게 없음"
   ]
  },
  {
   "cell_type": "code",
   "execution_count": 18,
   "id": "9abce8d4-c927-45af-b35c-696fcf6a86f6",
   "metadata": {},
   "outputs": [
    {
     "data": {
      "text/plain": [
       "False"
      ]
     },
     "execution_count": 18,
     "metadata": {},
     "output_type": "execute_result"
    }
   ],
   "source": [
    "[5,6,7]<=[5,4,3]"
   ]
  },
  {
   "cell_type": "code",
   "execution_count": null,
   "id": "ca19fff3-0b1d-4a1b-b87b-84440a8b04e0",
   "metadata": {},
   "outputs": [],
   "source": []
  }
 ],
 "metadata": {
  "kernelspec": {
   "display_name": "Python 3 (ipykernel)",
   "language": "python",
   "name": "python3"
  },
  "language_info": {
   "codemirror_mode": {
    "name": "ipython",
    "version": 3
   },
   "file_extension": ".py",
   "mimetype": "text/x-python",
   "name": "python",
   "nbconvert_exporter": "python",
   "pygments_lexer": "ipython3",
   "version": "3.9.7"
  }
 },
 "nbformat": 4,
 "nbformat_minor": 5
}
